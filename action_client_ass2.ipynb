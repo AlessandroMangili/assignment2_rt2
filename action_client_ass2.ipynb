{
 "cells": [
  {
   "cell_type": "code",
   "execution_count": 1,
   "id": "1a20641b",
   "metadata": {},
   "outputs": [],
   "source": [
    "import ipywidgets as widgets\n",
    "\n",
    "import rospy\n",
    "\n",
    "import actionlib\n",
    "from actionlib import GoalStatus\n",
    "from assignment2_rt.msg import PlanningAction, PlanningGoal\n",
    "from assignment2_rt.msg import Robot_info\n",
    "from nav_msgs.msg import Odometry"
   ]
  },
  {
   "cell_type": "code",
   "execution_count": 2,
   "id": "7364dd23",
   "metadata": {},
   "outputs": [],
   "source": [
    "pub_position_vel = None\n",
    "client = None\n",
    "out_server = widgets.Output()\n",
    "out = widgets.Output()\n",
    "ui, x_widget, y_widget = None, None, None"
   ]
  },
  {
   "cell_type": "code",
   "execution_count": 3,
   "id": "7a93084e",
   "metadata": {},
   "outputs": [],
   "source": [
    "def odom_callback(msg): \n",
    "    global pub_position_vel\n",
    "    robot_info = Robot_info()\n",
    "    robot_info.x = msg.pose.pose.position.x\n",
    "    robot_info.y = msg.pose.pose.position.y\n",
    "    robot_info.vel_x = msg.twist.twist.linear.x\n",
    "    robot_info.vel_z = msg.twist.twist.angular.z\n",
    "\n",
    "    pub_position_vel.publish(robot_info)"
   ]
  },
  {
   "cell_type": "code",
   "execution_count": 4,
   "id": "7a268834",
   "metadata": {},
   "outputs": [
    {
     "data": {
      "application/vnd.jupyter.widget-view+json": {
       "model_id": "73f633f2385541eb92828818c2e01021",
       "version_major": 2,
       "version_minor": 0
      },
      "text/plain": [
       "Output()"
      ]
     },
     "metadata": {},
     "output_type": "display_data"
    }
   ],
   "source": [
    "display(out_server)"
   ]
  },
  {
   "cell_type": "code",
   "execution_count": 5,
   "id": "92bb2e85",
   "metadata": {
    "scrolled": true
   },
   "outputs": [],
   "source": [
    "def feedback_callback(feedback):\n",
    "    global out\n",
    "    with out:\n",
    "        if (feedback.stat == \"Target reached!\"):\n",
    "            print(\"Target reached\\n{}\\nStatus: {}\\n\".format(feedback.actual_pose, feedback.stat))\n",
    "\n",
    "def send_goal(client, x, y):\n",
    "    global out\n",
    "    goal = PlanningGoal()\n",
    "    goal.target_pose.pose.position.x = x\n",
    "    goal.target_pose.pose.position.y = y\n",
    "    \n",
    "    goal.target_pose.pose.position.z = 0.0      \n",
    "    goal.target_pose.pose.orientation.x = 0.0  \n",
    "    goal.target_pose.pose.orientation.y = 0.0  \n",
    "    goal.target_pose.pose.orientation.z = 0.0   \n",
    "    goal.target_pose.pose.orientation.w = 0.0   \n",
    "\n",
    "    client.send_goal(goal, feedback_cb=feedback_callback)\n",
    "    with out:\n",
    "        print(\"Goal sent\")\n",
    "\n",
    "def cancel_goal(client):\n",
    "    global out\n",
    "    with out:\n",
    "        if client.get_state() in [GoalStatus.ACTIVE, GoalStatus.PENDING]:\n",
    "            print(\"Cancelling current goal\")\n",
    "            client.cancel_goal()\n",
    "            rospy.sleep(0.5)  # Timeout for forward the cancel\n",
    "            state = client.get_state()\n",
    "            if state in [GoalStatus.PREEMPTED, GoalStatus.RECALLED]:\n",
    "                print(\"Goal successfully cancelled\")\n",
    "            else:\n",
    "                print(\"Failed to cancel the goal\")\n",
    "        else:\n",
    "            print(\"No active goal to cancel.\")\n",
    "\n",
    "def main():\n",
    "    global pub_position_vel, client, out_server\n",
    "    rospy.init_node('action_client')\n",
    "    pub_position_vel = rospy.Publisher('/robot_information', Robot_info, queue_size=10)\n",
    "    with out_server:\n",
    "        print(\"Wait for the message of topic `/odom`\")\n",
    "    rospy.wait_for_message('/odom', Odometry)\n",
    "    rospy.Subscriber('/odom', Odometry, odom_callback)\n",
    "\n",
    "    client = actionlib.SimpleActionClient('/reaching_goal', PlanningAction)\n",
    "    with out_server:\n",
    "        print(\"Wait the action server starts\")\n",
    "    client.wait_for_server()\n",
    "    with out_server:\n",
    "        print(\"All components started\")\n",
    "\n",
    "try:\n",
    "    main()\n",
    "except rospy.ROSInterruptException:\n",
    "    global out_server\n",
    "    with out_server:\n",
    "        print(\"Program interrupted\")"
   ]
  },
  {
   "cell_type": "code",
   "execution_count": 6,
   "id": "d6832172",
   "metadata": {},
   "outputs": [],
   "source": [
    "def confirm_clicked(b):\n",
    "    global x_widget, y_widget, out\n",
    "    \n",
    "    if out is not None:\n",
    "        out.clear_output()\n",
    "            \n",
    "    with out:\n",
    "        x, y = x_widget.value, y_widget.value\n",
    "        if x is None or y is None:\n",
    "            print(\"Enter only valid values for X and Y\")\n",
    "            return\n",
    "        send_goal(client, x, y)\n",
    "        print(f\"Goal set to (X: {x:.2f}, Y: {y:.2f})\")\n",
    "        \n",
    "def ask_input():\n",
    "    global x_widget, y_widget, ui\n",
    "    \n",
    "    x_widget = widgets.BoundedFloatText(value=0.0, min=-20.0, max=20.0, step=1, description='X:')\n",
    "    y_widget = widgets.BoundedFloatText(value=0.0, min=-20.0, max=20.0, step=1, description='Y:')\n",
    "    \n",
    "    confirm_button = widgets.Button(description='Send goal')   \n",
    "\n",
    "    ui = widgets.VBox([x_widget, y_widget, confirm_button])\n",
    "    display(ui)\n",
    "    \n",
    "    confirm_button.on_click(confirm_clicked)"
   ]
  },
  {
   "cell_type": "code",
   "execution_count": 7,
   "id": "a4f5a280",
   "metadata": {
    "scrolled": true
   },
   "outputs": [
    {
     "data": {
      "application/vnd.jupyter.widget-view+json": {
       "model_id": "b87b4ff16a64430abd136efc9229aa48",
       "version_major": 2,
       "version_minor": 0
      },
      "text/plain": [
       "Dropdown(description='Command:', options=(('Select a command', 'n'), ('Set a new goal (s)', 's'), ('Cancel the…"
      ]
     },
     "metadata": {},
     "output_type": "display_data"
    }
   ],
   "source": [
    "command = widgets.Dropdown(\n",
    "    options=[('Select a command', 'n'),\n",
    "            ('Set a new goal (s)', 's'),\n",
    "             ('Cancel the current goal (c)', 'c'),\n",
    "             ('Quit the action client (q)', 'q')],\n",
    "    value='n',\n",
    "    description='Command:',\n",
    ")\n",
    "display(command)\n",
    "\n",
    "def command_change(change):\n",
    "    global client\n",
    "    cmd = change['new']\n",
    "    if cmd == 'n':\n",
    "        if ui is not None:\n",
    "            ui.layout.display = 'none'\n",
    "    elif cmd == 's':\n",
    "        if out is not None:\n",
    "            out.clear_output()\n",
    "        ask_input()\n",
    "    elif cmd == 'c':\n",
    "        if out is not None:\n",
    "            out.clear_output()\n",
    "        if ui is not None:\n",
    "            ui.layout.display = 'none'\n",
    "        cancel_goal(client)\n",
    "    elif cmd == 'q':\n",
    "        command.disabled = True\n",
    "        with out:\n",
    "            print(\"Quit from widget\")\n",
    "        rospy.signal_shutdown(\"Quit from widget\")\n",
    "        \n",
    "command.observe(command_change, names='value')"
   ]
  },
  {
   "cell_type": "code",
   "execution_count": 8,
   "id": "d8c1e1d8",
   "metadata": {},
   "outputs": [
    {
     "data": {
      "application/vnd.jupyter.widget-view+json": {
       "model_id": "6f8e342e9ae64b978c8daa5ed88e515d",
       "version_major": 2,
       "version_minor": 0
      },
      "text/plain": [
       "Output()"
      ]
     },
     "metadata": {},
     "output_type": "display_data"
    }
   ],
   "source": [
    "display(out)"
   ]
  }
 ],
 "metadata": {
  "kernelspec": {
   "display_name": "Python 3 (ipykernel)",
   "language": "python",
   "name": "python3"
  },
  "language_info": {
   "codemirror_mode": {
    "name": "ipython",
    "version": 3
   },
   "file_extension": ".py",
   "mimetype": "text/x-python",
   "name": "python",
   "nbconvert_exporter": "python",
   "pygments_lexer": "ipython3",
   "version": "3.8.5"
  }
 },
 "nbformat": 4,
 "nbformat_minor": 5
}
