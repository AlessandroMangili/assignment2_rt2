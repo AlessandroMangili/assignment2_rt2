{
 "cells": [
  {
   "cell_type": "code",
   "execution_count": 1,
   "id": "3605002e",
   "metadata": {},
   "outputs": [],
   "source": [
    "import ipywidgets as widgets\n",
    "\n",
    "import rospy\n",
    "\n",
    "from geometry_msgs.msg import PoseStamped\n",
    "from assignment2_rt.msg import PlanningActionGoal\n",
    "from assignment2_rt.srv import Target, TargetResponse"
   ]
  },
  {
   "cell_type": "code",
   "execution_count": 2,
   "id": "8c47cca6",
   "metadata": {
    "scrolled": true
   },
   "outputs": [],
   "source": [
    "last_target = None\n",
    "service_client = None\n",
    "out, out_service = widgets.Output(), widgets.Output()"
   ]
  },
  {
   "cell_type": "code",
   "execution_count": 3,
   "id": "0ae9095a",
   "metadata": {},
   "outputs": [
    {
     "data": {
      "application/vnd.jupyter.widget-view+json": {
       "model_id": "8fce6928cfd845ddbdb8bc033b169fa3",
       "version_major": 2,
       "version_minor": 0
      },
      "text/plain": [
       "Output()"
      ]
     },
     "metadata": {},
     "output_type": "display_data"
    }
   ],
   "source": [
    "display(out_service)"
   ]
  },
  {
   "cell_type": "code",
   "execution_count": 4,
   "id": "adb190f1",
   "metadata": {},
   "outputs": [],
   "source": [
    "def goal_callback(msg):\n",
    "    global last_target\n",
    "    last_target = msg\n",
    "\n",
    "def handle_last_goal_request(req):\n",
    "    global last_target, out\n",
    "    if last_target is None:\n",
    "        return TargetResponse()\n",
    "    target_info = PoseStamped()\n",
    "    target_info.header = last_target.header\n",
    "    target_info.pose = last_target.goal.target_pose.pose\n",
    "    return TargetResponse(target_info)    \n",
    "\n",
    "def service_last_goal():\n",
    "    global out_service, service_client\n",
    "    rospy.init_node('retrieve_last_target')\n",
    "    rospy.Subscriber('/reaching_goal/goal', PlanningActionGoal, goal_callback)\n",
    "    rospy.Service('/get_last_goal', Target, handle_last_goal_request)\n",
    "    with out_service:\n",
    "        print(\"[SERVICE] Service node started. Waiting for requests...\")\n",
    "        \n",
    "    service_client = rospy.ServiceProxy('/get_last_goal', Target)\n",
    "    with out_service:\n",
    "        print(\"[SERVICE] Service proxy for calls started\")\n",
    "\n",
    "try:\n",
    "    service_last_goal()\n",
    "except rospy.ROSInterruptException:\n",
    "    global out_service\n",
    "    with out_service:\n",
    "        print(\"Program interrupted\")"
   ]
  },
  {
   "cell_type": "code",
   "execution_count": 5,
   "id": "2e600825",
   "metadata": {},
   "outputs": [
    {
     "data": {
      "application/vnd.jupyter.widget-view+json": {
       "model_id": "48829a57c5124409a1106c4e2256f20e",
       "version_major": 2,
       "version_minor": 0
      },
      "text/plain": [
       "Button(description='Retrieve last goal', style=ButtonStyle())"
      ]
     },
     "metadata": {},
     "output_type": "display_data"
    }
   ],
   "source": [
    "request_button = widgets.Button(description=\"Retrieve last goal\")\n",
    "display(request_button)\n",
    "\n",
    "def on_button_clicked(b):\n",
    "    global service_client, out\n",
    "    out.clear_output()\n",
    "    try:\n",
    "        resp = service_client()\n",
    "        with out:\n",
    "            if resp.last_target.header.seq != 0:\n",
    "                print(f\"Response received:\\n {resp}\")\n",
    "            else:\n",
    "                print(\"No target available\")\n",
    "    except rospy.ServiceException as e:\n",
    "        with out: \n",
    "            print(f\"Service call failed: {e}\")\n",
    "\n",
    "request_button.on_click(on_button_clicked)"
   ]
  },
  {
   "cell_type": "code",
   "execution_count": 6,
   "id": "56bada04",
   "metadata": {},
   "outputs": [
    {
     "data": {
      "application/vnd.jupyter.widget-view+json": {
       "model_id": "7a3e0cf41bcd4772a0736a2188f31d64",
       "version_major": 2,
       "version_minor": 0
      },
      "text/plain": [
       "Output()"
      ]
     },
     "metadata": {},
     "output_type": "display_data"
    }
   ],
   "source": [
    "display(out)"
   ]
  }
 ],
 "metadata": {
  "kernelspec": {
   "display_name": "Python 3 (ipykernel)",
   "language": "python",
   "name": "python3"
  },
  "language_info": {
   "codemirror_mode": {
    "name": "ipython",
    "version": 3
   },
   "file_extension": ".py",
   "mimetype": "text/x-python",
   "name": "python",
   "nbconvert_exporter": "python",
   "pygments_lexer": "ipython3",
   "version": "3.8.5"
  }
 },
 "nbformat": 4,
 "nbformat_minor": 5
}
